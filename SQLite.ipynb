{
  "nbformat": 4,
  "nbformat_minor": 0,
  "metadata": {
    "colab": {
      "provenance": []
    },
    "kernelspec": {
      "name": "python3",
      "display_name": "Python 3"
    },
    "language_info": {
      "name": "python"
    }
  },
  "cells": [
    {
      "cell_type": "code",
      "execution_count": null,
      "metadata": {
        "id": "2VEJ6eBbEptr"
      },
      "outputs": [],
      "source": []
    },
    {
      "cell_type": "code",
      "source": [
        "import sqlite3\n",
        "\n",
        "def create_sqlite_database(filename):\n",
        "    \"\"\" create a database connection to an SQLite database \"\"\"\n",
        "    conn = None\n",
        "    try:\n",
        "        conn = sqlite3.connect(filename)\n",
        "        print(sqlite3.sqlite_version)\n",
        "    except sqlite3.Error as e:\n",
        "        print(e)\n",
        "    finally:\n",
        "        if conn:\n",
        "            conn.close()\n",
        "\n",
        "\n",
        "if __name__ == '__main__':\n",
        "    create_sqlite_database(\"week5Assignment.db\")"
      ],
      "metadata": {
        "colab": {
          "base_uri": "https://localhost:8080/"
        },
        "id": "siMRsQpCE6Qz",
        "outputId": "0f217075-f788-4154-d4c8-01b97efd2c02"
      },
      "execution_count": null,
      "outputs": [
        {
          "output_type": "stream",
          "name": "stdout",
          "text": [
            "3.37.2\n"
          ]
        }
      ]
    },
    {
      "cell_type": "code",
      "source": [
        "import sqlite3\n",
        "\n",
        "def create_tables():\n",
        "    sql_statements = [\n",
        "        \"\"\"CREATE TABLE IF NOT EXISTS users (\n",
        "                id INTEGER PRIMARY KEY,\n",
        "                username text UNIQUE,\n",
        "                email TEXT UNIQUE,\n",
        "                password TEXT UNIQUE,\n",
        "                isadmin BOOLEAN DEFAULT 0,\n",
        "                createdat TEXT DEFAULT CURRENT_TIMESTAMP\n",
        "        );\"\"\"]\n",
        "\n",
        "    # create a database connection\n",
        "    try:\n",
        "        with sqlite3.connect('week5Assignment.db') as conn:\n",
        "            cursor = conn.cursor()\n",
        "            for statement in sql_statements:\n",
        "                cursor.execute(statement)\n",
        "\n",
        "            conn.commit()\n",
        "    except sqlite3.Error as e:\n",
        "        print(e)\n",
        "\n",
        "\n",
        "if __name__ == '__main__':\n",
        "    create_tables()"
      ],
      "metadata": {
        "id": "vW7UMFheMDQl"
      },
      "execution_count": null,
      "outputs": []
    },
    {
      "cell_type": "code",
      "source": [
        "import sqlite3\n",
        "\n",
        "def add_user(conn, users):\n",
        "    sql = ''' INSERT INTO users(username,email,password,isadmin,createdat)\n",
        "              VALUES(?,?,?,?,?) '''\n",
        "    cur = conn.cursor()\n",
        "    cur.execute(sql, users)\n",
        "    conn.commit()\n",
        "    return cur.lastrowid\n",
        "\n",
        "def main():\n",
        "    try:\n",
        "        with sqlite3.connect('week5Assignment.db') as conn:\n",
        "            # add a new user\n",
        "            users = [\n",
        "                ('user1', 'user1@email.com', 'Password_D', 1, '2023-03-26 06:19:10'),\n",
        "                ('user2', 'user2@email.com', 'Password_C', 0, '2023-03-26 16:28:47'),\n",
        "                ('user3', 'user3@email.com', 'Password_B', 0, '2023-03-27 06:19:10'),\n",
        "                ('user4', 'user4@email.com', 'Password_A', 0, '2023-03-25 06:19:10')\n",
        "            ]\n",
        "            for users in users:\n",
        "              users_id = add_user(conn, users)\n",
        "              print(f'Created a user with the id {users_id}')\n",
        "\n",
        "    except sqlite3.Error as e:\n",
        "        print(e)\n",
        "\n",
        "if __name__ == '__main__':\n",
        "    main()"
      ],
      "metadata": {
        "colab": {
          "base_uri": "https://localhost:8080/"
        },
        "id": "HeVacnktO_3X",
        "outputId": "27086e93-c05b-4ec3-f101-f4332a9a785b"
      },
      "execution_count": null,
      "outputs": [
        {
          "output_type": "stream",
          "name": "stdout",
          "text": [
            "Created a user with the id 1\n",
            "Created a user with the id 2\n",
            "Created a user with the id 3\n",
            "Created a user with the id 4\n"
          ]
        }
      ]
    },
    {
      "cell_type": "code",
      "source": [
        "import sqlite3\n",
        "\n",
        "sql = 'UPDATE users SET isadmin = ? WHERE id = ?'\n",
        "\n",
        "try:\n",
        "    with sqlite3.connect('week5Assignment.db') as conn:\n",
        "        cursor = conn.cursor()\n",
        "        cursor.execute(sql, (1,4) )\n",
        "        conn.commit()\n",
        "except sqlite3.Error as e:\n",
        "    print(e)"
      ],
      "metadata": {
        "id": "PXXDIi8LUecJ"
      },
      "execution_count": null,
      "outputs": []
    },
    {
      "cell_type": "code",
      "source": [
        "import sqlite3\n",
        "\n",
        "try:\n",
        "    with sqlite3.connect('week5Assignment.db') as conn:\n",
        "        cur = conn.cursor()\n",
        "        cur.execute('select * from users where isadmin = 0')\n",
        "        rows = cur.fetchall()\n",
        "        for row in rows:\n",
        "            print(row)\n",
        "except sqlite3.Error as e:\n",
        "    print(e)"
      ],
      "metadata": {
        "colab": {
          "base_uri": "https://localhost:8080/"
        },
        "id": "eehuRFjvVAuq",
        "outputId": "362211c0-8920-4360-a790-4ffd884d0558"
      },
      "execution_count": null,
      "outputs": [
        {
          "output_type": "stream",
          "name": "stdout",
          "text": [
            "(2, 'user2', 'user2@email.com', 'Password_C', 0, '2023-03-26 16:28:47')\n",
            "(3, 'user3', 'user3@email.com', 'Password_B', 0, '2023-03-27 06:19:10')\n"
          ]
        }
      ]
    },
    {
      "cell_type": "code",
      "source": [
        "import sqlite3\n",
        "\n",
        "try:\n",
        "  with sqlite3.connect('week5Assignment.db') as conn:\n",
        "        cur = conn.cursor()\n",
        "        cur.execute('select * from users where username = ? AND password = ?', ('user3', 'Password_B'))\n",
        "        rows = cur.fetchall()\n",
        "        for row in rows:\n",
        "            print(row)\n",
        "except sqlite3.Error as e:\n",
        "    print(e)"
      ],
      "metadata": {
        "colab": {
          "base_uri": "https://localhost:8080/"
        },
        "id": "EXOvAp1gVdRz",
        "outputId": "b8be4e0c-8fb4-4dcf-8098-5c173f1647e1"
      },
      "execution_count": null,
      "outputs": [
        {
          "output_type": "stream",
          "name": "stdout",
          "text": [
            "(3, 'user3', 'user3@email.com', 'Password_B', 0, '2023-03-27 06:19:10')\n"
          ]
        }
      ]
    },
    {
      "cell_type": "code",
      "source": [
        "import sqlite3\n",
        "\n",
        "try:\n",
        "    with sqlite3.connect('week5Assignment.db') as conn:\n",
        "        cur = conn.cursor()\n",
        "        delete_stmt = 'DELETE FROM users WHERE id = ?'\n",
        "        cur.execute(delete_stmt, (3,))\n",
        "        conn.commit()\n",
        "except sqlite3.Error as e:\n",
        "    print(e)"
      ],
      "metadata": {
        "id": "XJWGdvWHWqMn"
      },
      "execution_count": null,
      "outputs": []
    }
  ]
}